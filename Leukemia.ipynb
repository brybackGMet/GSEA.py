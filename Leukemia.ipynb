{
 "cells": [
  {
   "cell_type": "markdown",
   "metadata": {},
   "source": [
    "# GSEA analysis on leukemia dataset"
   ]
  },
  {
   "cell_type": "code",
   "execution_count": 1,
   "metadata": {
    "collapsed": true
   },
   "outputs": [],
   "source": [
    "%load_ext autoreload\n",
    "%autoreload 2"
   ]
  },
  {
   "cell_type": "code",
   "execution_count": 27,
   "metadata": {},
   "outputs": [
    {
     "name": "stdout",
     "output_type": "stream",
     "text": [
      "Using matplotlib backend: agg\n",
      "Populating the interactive namespace from numpy and matplotlib\n"
     ]
    }
   ],
   "source": [
    "from gsea import *\n",
    "import numpy as np\n",
    "%pylab"
   ]
  },
  {
   "cell_type": "code",
   "execution_count": 31,
   "metadata": {
    "collapsed": true
   },
   "outputs": [],
   "source": [
    "%matplotlib inline"
   ]
  },
  {
   "cell_type": "markdown",
   "metadata": {},
   "source": [
    "## Load data"
   ]
  },
  {
   "cell_type": "code",
   "execution_count": 157,
   "metadata": {},
   "outputs": [],
   "source": [
    "genes, D, C = read_expression_file(\"data/leukemia.txt\")\n",
    "gene_sets, gene_set_names = read_genesets_file(\"data/pathways.txt\", genes)\n",
    "gene_set_hash = {}\n",
    "for i in range(len(gene_sets)):\n",
    "    gene_set_hash[gene_set_names[i][0]] = {'indexes':gene_sets[i],'desc':gene_set_names[i][1]}"
   ]
  },
  {
   "cell_type": "code",
   "execution_count": 111,
   "metadata": {},
   "outputs": [
    {
     "data": {
      "text/plain": [
       "(2672, (2672, 72), 72)"
      ]
     },
     "execution_count": 111,
     "metadata": {},
     "output_type": "execute_result"
    }
   ],
   "source": [
    "# verify that the dimensions make sense\n",
    "len(genes),D.shape,len(C)"
   ]
  },
  {
   "cell_type": "markdown",
   "metadata": {},
   "source": [
    "## Enrichment score calculations\n",
    "We graphically present the calculation of ES."
   ]
  },
  {
   "cell_type": "code",
   "execution_count": 173,
   "metadata": {},
   "outputs": [],
   "source": [
    "L,r = rank_genes(D,C)"
   ]
  },
  {
   "cell_type": "markdown",
   "metadata": {},
   "source": [
    "See if the first genes in *L* are indeed correlated with *C*"
   ]
  },
  {
   "cell_type": "code",
   "execution_count": 174,
   "metadata": {},
   "outputs": [
    {
     "data": {
      "text/plain": [
       "<matplotlib.collections.PathCollection at 0x7f6e6dc9eba8>"
      ]
     },
     "execution_count": 174,
     "metadata": {},
     "output_type": "execute_result"
    },
    {
     "data": {
      "image/png": "[encoded data removed]",
      "text/plain": [
       "<matplotlib.figure.Figure at 0x7f6e6de186a0>"
      ]
     },
     "metadata": {},
     "output_type": "display_data"
    }
   ],
   "source": [
    "scatter(D[L[1],:],C)"
   ]
  },
  {
   "cell_type": "code",
   "execution_count": 175,
   "metadata": {},
   "outputs": [
    {
     "data": {
      "text/plain": [
       "<matplotlib.collections.PathCollection at 0x7f6e6dc2c9e8>"
      ]
     },
     "execution_count": 175,
     "metadata": {},
     "output_type": "execute_result"
    },
    {
     "data": {
      "image/png": "[encoded data removed]",
      "text/plain": [
       "<matplotlib.figure.Figure at 0x7f6e6dd442e8>"
      ]
     },
     "metadata": {},
     "output_type": "display_data"
    }
   ],
   "source": [
    "scatter(D[L[-1],:],C)"
   ]
  },
  {
   "cell_type": "code",
   "execution_count": 176,
   "metadata": {},
   "outputs": [
    {
     "data": {
      "text/plain": [
       "<matplotlib.collections.PathCollection at 0x7f6e6db466d8>"
      ]
     },
     "execution_count": 176,
     "metadata": {},
     "output_type": "execute_result"
    },
    {
     "data": {
      "image/png": "[encoded data removed]",
      "text/plain": [
       "<matplotlib.figure.Figure at 0x7f6e6dbe8828>"
      ]
     },
     "metadata": {},
     "output_type": "display_data"
    }
   ],
   "source": [
    "scatter(D[L[1000],:],C)"
   ]
  },
  {
   "cell_type": "markdown",
   "metadata": {},
   "source": [
    "## Graphical ilustration of ES calculations"
   ]
  },
  {
   "cell_type": "code",
   "execution_count": 113,
   "metadata": {},
   "outputs": [],
   "source": [
    "p_exp = 1\n",
    "def plot_es_calculations(name, L, r):\n",
    "    S = gene_set_hash[name]['indexes']\n",
    "    N = len(L)\n",
    "    S_mask = np.zeros(N)\n",
    "    S_mask[S] = 1\n",
    "    # reorder gene set mask\n",
    "    S_mask = S_mask[L]\n",
    "    N_R = sum(abs(r*S_mask)**p_exp)\n",
    "    P_hit = np.cumsum(abs(r*S_mask)**p_exp)/N_R if N_R!=0 else np.zeros_like(S_mask)\n",
    "    N_H = len(S)\n",
    "    P_mis = np.cumsum((1-S_mask))/(N-N_H) if N!=N_H else np.zeros_like(S_mask)\n",
    "    idx = np.argmax(abs(P_hit - P_mis))\n",
    "    print(\"ES =\", P_hit[idx]-P_mis[idx])\n",
    "    f, axarr = plt.subplots(3, sharex=True)\n",
    "    axarr[0].plot(S_mask)\n",
    "    axarr[0].set_title('gene set %s' % name)\n",
    "    axarr[1].plot(r)\n",
    "    axarr[1].set_title('correlation with phenotype')\n",
    "    axarr[2].plot(P_hit-P_mis)\n",
    "    axarr[2].set_title('random walk')"
   ]
  },
  {
   "cell_type": "code",
   "execution_count": 114,
   "metadata": {},
   "outputs": [
    {
     "name": "stdout",
     "output_type": "stream",
     "text": [
      "ES = 0.214604376897\n"
     ]
    },
    {
     "data": {
      "image/png": "[encoded data removed]",
      "text/plain": [
       "<matplotlib.figure.Figure at 0x7f6e7526a4e0>"
      ]
     },
     "metadata": {},
     "output_type": "display_data"
    }
   ],
   "source": [
    "L,r = rank_genes(D,C)\n",
    "plot_es_calculations('CBF_LEUKEMIA_DOWNING_AML', L, r)"
   ]
  },
  {
   "cell_type": "markdown",
   "metadata": {},
   "source": [
    "## Random phenotype labels\n",
    "Now let's assign phenotype labels randomly. Is the ES much different?"
   ]
  },
  {
   "cell_type": "code",
   "execution_count": 65,
   "metadata": {},
   "outputs": [
    {
     "name": "stdout",
     "output_type": "stream",
     "text": [
      "[0 0 1 1 1 1 1 1 1 0 0 0 0 1 0 0 0 0 1 0 0 0 0 0 0 1 1 0 1 1 1 0 0 1 1 0 0\n",
      " 0 0 1 0 1 0 0 0 0 1 0 1 1 0 1 0 1 0 0 1 0 1 0 1 1 0 0 1 1 0 1 1 0 0 1]\n",
      "ES = -0.344727013021\n"
     ]
    },
    {
     "data": {
      "image/png": "[encoded data removed]",
      "text/plain": [
       "<matplotlib.figure.Figure at 0x7f6e74d55d30>"
      ]
     },
     "metadata": {},
     "output_type": "display_data"
    }
   ],
   "source": [
    "N, k = D.shape\n",
    "pi = np.array([np.random.randint(0,2) for i in range(k)])\n",
    "L, r = rank_genes(D,pi)\n",
    "print(pi)\n",
    "plot_es_calculations('CBF_LEUKEMIA_DOWNING_AML', L, r)"
   ]
  },
  {
   "cell_type": "markdown",
   "metadata": {},
   "source": [
    "## GSEA analysis"
   ]
  },
  {
   "cell_type": "code",
   "execution_count": 71,
   "metadata": {},
   "outputs": [
    {
     "name": "stdout",
     "output_type": "stream",
     "text": [
      "CPU times: user 8min 3s, sys: 132 ms, total: 8min 3s\n",
      "Wall time: 8min 3s\n"
     ]
    }
   ],
   "source": [
    "%time order, NES, p_values = gsea(D, C, gene_sets)"
   ]
  },
  {
   "cell_type": "code",
   "execution_count": 110,
   "metadata": {},
   "outputs": [
    {
     "name": "stdout",
     "output_type": "stream",
     "text": [
      "geneset\tNES\tp-value\tnumber of genes in geneset\n",
      "MAP00532_Chondroitin_Heparan_sulfate_biosynthesis\t-2.365\t0.0000000\t0\n",
      "MAP_kinase_kinase_activity\t-2.273\t0.0225564\t4\n",
      "cell_cycle_checkpointII\t2.195\t0.0173160\t7\n",
      "mitrPathway\t2.116\t0.0210843\t3\n",
      "MAP03070_Type_III_secretion_system\t-2.074\t0.0179641\t10\n",
      "mspPathway\t-2.059\t0.0066445\t4\n",
      "pepiPathway\t-2.054\t0.0111732\t5\n",
      "anthraxPathway\t-2.045\t0.0238095\t2\n",
      "aifPathway\t2.041\t0.0405405\t2\n",
      "pentosePathway\t-2.040\t0.0139860\t3\n",
      "Pentose_Phosphate_Pathway\t-2.030\t0.0361991\t5\n",
      "MAP00193_ATP_synthesis\t-2.004\t0.0408163\t10\n",
      "slrp2Pathway\t-1.945\t0.0197183\t3\n",
      "ROS\t-1.911\t0.0359281\t6\n",
      "ST_Interleukin_13_Pathway\t-1.888\t0.0441176\t4\n",
      "neutrophilPathway\t-1.876\t0.0203160\t8\n",
      "alternativePathway\t-1.875\t0.0441176\t8\n",
      "MAP00533_Keratan_sulfate_biosynthesis\t1.863\t0.0263158\t2\n",
      "ST_Dictyostelium_discoideum_cAMP_Receptor_G_Protein_Independent_Pathways\t1.862\t0.0294118\t3\n",
      "reckPathway\t-1.841\t0.0387597\t6\n",
      "il10Pathway\t-1.837\t0.0380117\t13\n",
      "ST_IL_13_PATHWAY\t-1.826\t0.0620690\t4\n",
      "mrpPathway\t-1.822\t0.0517928\t3\n",
      "tsp1Pathway\t-1.812\t0.0854701\t7\n",
      "cell2cellPathway\t-1.808\t0.0397351\t8\n",
      "MAP00680_Methane_metabolism\t-1.802\t0.0523810\t6\n",
      "tcrMoleculePathway\t1.801\t0.0588235\t5\n",
      "ranPathway\t1.796\t0.0315315\t2\n",
      "freePathway\t-1.795\t0.0574713\t7\n",
      "ifngPathway\t-1.794\t0.0140056\t5\n",
      "MAP00600_Sphingoglycolipid_metabolism\t-1.783\t0.0220994\t9\n",
      "plk3Pathway\t1.781\t0.0350404\t5\n",
      "stemPathway\t-1.778\t0.1022727\t10\n",
      "SA_MMP_CYTOKINE_CONNECTION\t-1.777\t0.0287356\t11\n",
      "vitcbPathway\t-1.776\t0.0854701\t5\n",
      "tertPathway\t1.775\t0.0476190\t8\n",
      "eif2Pathway\t1.771\t0.0174129\t6\n",
      "il18Pathway\t-1.765\t0.0599078\t6\n",
      "MAP00195_Photosynthesis\t-1.764\t0.0301508\t10\n",
      "tnfr2Pathway\t-1.759\t0.0633484\t10\n",
      "MAP00480_Glutathione_metabolism\t-1.754\t0.0413223\t13\n",
      "fosbPathway\t-1.751\t0.0533333\t4\n",
      "MAP00531_Glycosaminoglycan_degradation\t-1.749\t0.0505618\t9\n",
      "ldlPathway\t-1.741\t0.0318021\t6\n",
      "krebPathway\t1.736\t0.0645161\t6\n",
      "rarPathway\t-1.735\t0.0396601\t3\n",
      "ST_STAT3_Pathway\t-1.715\t0.0674847\t5\n",
      "etcPathway\t1.703\t0.0409836\t6\n",
      "MAP00530_Aminosugars_metabolism\t-1.691\t0.0544872\t10\n",
      "gabaPathway\t-1.676\t0.0476190\t4\n",
      "fbw7Pathway\t1.664\t0.0465839\t8\n",
      "mRNA_splicing\t1.644\t0.0625000\t28\n",
      "eosinophilsPathway\t-1.631\t0.0469613\t6\n",
      "lymphocytePathway\t-1.630\t0.0598291\t9\n",
      "cdc25Pathway\t1.628\t0.1301370\t7\n",
      "atrbrcaPathway\t1.625\t0.0995671\t8\n",
      "ST_Interferon_gamma_Pathway\t-1.620\t0.0909091\t5\n",
      "tercPathway\t1.615\t0.0630252\t6\n",
      "rbPathway\t1.610\t0.0415512\t11\n",
      "botulinPathway\t1.600\t0.1071429\t4\n",
      "eea1Pathway\t-1.593\t0.1215470\t4\n",
      "MAP00860_Porphyrin_and_chlorophyll_metabolism\t-1.589\t0.1057269\t12\n",
      "acetaminophenPathway\t-1.584\t0.1193182\t5\n",
      "monocytePathway\t-1.570\t0.0725076\t11\n",
      "il5Pathway\t-1.568\t0.0679887\t9\n",
      "GPCRs_Class_A_Rhodopsin-like_2\t-1.561\t0.0972973\t1\n",
      "g2Pathway\t1.561\t0.0960000\t19\n",
      "parkinPathway\t1.560\t0.0588235\t3\n",
      "dbpbPathway\t-1.558\t0.0606860\t2\n",
      "tollPathway\t-1.555\t0.1015625\t15\n",
      "p27Pathway\t1.554\t0.1117318\t10\n",
      "g1pPathway\t1.550\t0.0852713\t2\n",
      "MAP00603_Globoside_metabolism\t-1.543\t0.0959302\t9\n",
      "MAP00630_Glyoxylate_and_dicarboxylate_metabolism\t1.537\t0.1137441\t5\n",
      "ST_Ga13_Pathway\t-1.537\t0.0955631\t22\n",
      "arfPathway\t1.527\t0.1167192\t12\n",
      "extrinsicPathway\t-1.525\t0.1277533\t11\n",
      "SA_REG_CASCADE_OF_CYCLIN_EXPR\t1.524\t0.0992908\t7\n",
      "compPathway\t-1.523\t0.1187500\t13\n",
      "ahspPathway\t-1.522\t0.1145251\t9\n",
      "p53Pathway\t1.515\t0.0773067\t13\n",
      "dnafragmentPathway\t1.514\t0.1348315\t8\n",
      "il1rPathway\t-1.511\t0.1458333\t20\n",
      "cptPathway\t1.506\t0.0708215\t2\n",
      "mRNA_processing\t1.501\t0.1226766\t27\n",
      "parkinsonsPathway\t-1.494\t0.1238390\t1\n",
      "SA_BONE_MORPHOGENETIC\t-1.491\t0.1172249\t1\n",
      "akap13Pathway\t-1.490\t0.0939394\t5\n",
      "proteasomePathway\t1.484\t0.1392405\t19\n",
      "ranklPathway\t-1.484\t0.1172414\t10\n",
      "pgc1aPathway\t1.479\t0.1306122\t13\n",
      "il6Pathway\t-1.477\t0.0941828\t16\n",
      "ketonebodiesPathway\t1.475\t0.1240876\t3\n",
      "bbcellPathway\t1.474\t0.1133333\t3\n",
      "MAP00970_Aminoacyl_tRNA_biosynthesis\t1.473\t0.1238671\t16\n",
      "tRNA_Synthetases\t1.472\t0.1341463\t17\n",
      "tcraPathway\t1.462\t0.0899743\t12\n",
      "MAP00602_Blood_group_glycolipid_biosynthesis_neolact_series\t-1.460\t0.0977918\t7\n",
      "lechtinPathway\t-1.459\t0.1123596\t8\n",
      "ANTI_CD44_UP\t-1.458\t0.1266234\t23\n",
      "setPathway\t1.455\t0.1500000\t10\n",
      "MAP00450_Selenoamino_acid_metabolism\t-1.454\t0.1417323\t4\n",
      "Proteasome_Degradation\t1.453\t0.1047904\t28\n",
      "stressPathway\t-1.451\t0.1285141\t16\n",
      "ace2Pathway\t-1.449\t0.1433566\t4\n",
      "cd40Pathway\t-1.447\t0.1448276\t7\n",
      "egfr_smrtePathway\t-1.441\t0.1324503\t7\n",
      "il22bpPathway\t-1.440\t0.1297297\t7\n",
      "betaoxidationPathway\t1.438\t0.1504854\t5\n",
      "41bbPathway\t-1.436\t0.1686747\t12\n",
      "eponfkbPathway\t-1.433\t0.1344538\t8\n",
      "ST_Gaq_Pathway\t-1.432\t0.1491935\t18\n",
      "Fatty_Acid_Synthesis\t1.430\t0.1447368\t7\n",
      "S1P_Signaling\t-1.423\t0.1557971\t12\n",
      "classicPathway\t-1.420\t0.1527778\t9\n",
      "MAP00910_Nitrogen_metabolism\t-1.418\t0.1039604\t11\n",
      "cell_cycle_checkpoint\t1.417\t0.1304348\t17\n",
      "pkcPathway\t-1.417\t0.1181818\t6\n",
      "feederPathway\t-1.417\t0.1489362\t4\n",
      "TCA\t1.412\t0.1173333\t10\n",
      "longevityPathway\t-1.412\t0.1325301\t10\n",
      "vifPathway\t1.406\t0.1442953\t3\n",
      "dcPathway\t-1.404\t0.1673640\t13\n",
      "GLYCOL\t-1.398\t0.1504178\t12\n",
      "NFKB_REDUCED\t-1.397\t0.1559633\t12\n",
      "integrinPathway\t-1.395\t0.1485149\t24\n",
      "MAP00720_Reductive_carboxylate_cycle_CO2_fixation\t1.394\t0.1455939\t6\n",
      "SA_G2_AND_M_PHASES\t1.390\t0.2173913\t6\n",
      "KET\t1.390\t0.1604278\t3\n",
      "mta3Pathway\t-1.390\t0.1147132\t7\n",
      "glycolysisPathway\t-1.385\t0.1616162\t6\n",
      "neurotransmittersPathway\t-1.382\t0.1782178\t6\n",
      "pparPathway\t-1.378\t0.2165899\t2\n",
      "CR_REPAIR\t1.376\t0.2128713\t25\n",
      "DOWNREG_BY_HOXA9\t-1.375\t0.1569966\t23\n",
      "telPathway\t1.366\t0.1683168\t12\n",
      "HOXA9_DOWN\t-1.365\t0.1769231\t26\n",
      "circadianPathway\t1.361\t0.1927711\t4\n",
      "blymphocytePathway\t-1.360\t0.1611842\t9\n",
      "MAP00230_Purine_metabolism\t1.356\t0.1752577\t55\n",
      "stat3Pathway\t-1.352\t0.2009569\t6\n",
      "Matrix_Metalloproteinases\t-1.346\t0.1916376\t16\n",
      "ST_Type_I_Interferon_Pathway\t-1.343\t0.2125000\t8\n",
      "Cell_Cycle\t1.340\t0.1867816\t50\n",
      "GATA1_WEISS\t-1.335\t0.1970803\t13\n",
      "MAP00590_Prostaglandin_and_leukotriene_metabolism\t-1.329\t0.1991525\t10\n",
      "XINACT_MERGED\t1.325\t0.1823708\t12\n",
      "Eicosanoid_Synthesis\t-1.323\t0.2187500\t11\n",
      "mitochondriaPathway\t1.321\t0.1878307\t13\n",
      "MAP00340_Histidine_metabolism\t-1.319\t0.1548556\t12\n",
      "th1th2Pathway\t-1.313\t0.2155172\t13\n",
      "il3Pathway\t-1.309\t0.1822660\t11\n",
      "notchPathway\t-1.305\t0.2282158\t4\n",
      "lairPathway\t-1.299\t0.2154696\t15\n",
      "relaPathway\t-1.294\t0.1898734\t12\n",
      "DNA_DAMAGE_SIGNALLING\t1.294\t0.2154341\t60\n",
      "tall1Pathway\t-1.293\t0.2226415\t8\n",
      "slrpPathway\t-1.289\t0.2118644\t3\n",
      "MAP00512_O_Glycans_biosynthesis\t-1.289\t0.1773050\t3\n",
      "mRNA_binding_activity\t1.286\t0.1855670\t8\n",
      "il7Pathway\t1.284\t0.2133758\t15\n",
      "fibrinolysisPathway\t-1.284\t0.1717949\t9\n",
      "GO_ROS\t-1.281\t0.2293233\t19\n",
      "intrinsicPathway\t-1.275\t0.2068966\t13\n",
      "MAP00601_Blood_group_glycolipid_biosynthesis_lact_series\t-1.274\t0.2368421\t5\n",
      "cell_death\t-1.273\t0.1924051\t12\n",
      "erythPathway\t-1.270\t0.1956522\t10\n",
      "tcapoptosisPathway\t1.269\t0.2076372\t7\n",
      "ifnaPathway\t-1.259\t0.1709007\t8\n",
      "bcl2family_and_reg_network\t-1.259\t0.2165354\t15\n",
      "MAP00430_Taurine_and_hypotaurine_metabolism\t-1.251\t0.2446352\t3\n",
      "MAP00500_Starch_and_sucrose_metabolism\t-1.250\t0.2137097\t15\n",
      "appPathway\t1.242\t0.2484472\t3\n",
      "srcRPTPPathway\t1.241\t0.2079208\t10\n",
      "malatexPathway\t1.241\t0.2349727\t6\n",
      "skp2e2fPathway\t1.236\t0.2209302\t10\n",
      "cytokinePathway\t-1.232\t0.1965812\t14\n",
      "CR_ANGIOG\t-1.232\t0.2336683\t5\n",
      "Complement_Activation_Classical\t-1.232\t0.2694301\t10\n",
      "HOX_LIST_JP\t-1.229\t0.2678571\t18\n",
      "gsPathway\t1.228\t0.2433234\t5\n",
      "CR_HORMONAL_FUNCTIONS\t-1.225\t0.2279635\t6\n",
      "KRAS_TOP100_KNOCKDOWN\t-1.224\t0.2434368\t34\n",
      "Krebs-TCA_Cycle\t1.224\t0.2500000\t21\n",
      "MAP00310_Lysine_degradation\t-1.222\t0.2258065\t11\n",
      "CR_CELL_CYCLE\t1.220\t0.2209821\t56\n",
      "CR_TRANSPORT_OF_VESICLES\t-1.215\t0.2883721\t17\n",
      "ANTI_CD44_DOWN\t-1.207\t0.2268041\t12\n",
      "ptc1Pathway\t1.204\t0.2465116\t9\n",
      "MAP00030_Pentose_phosphate_pathway\t-1.200\t0.2735849\t13\n",
      "ST_G_alpha_i_Pathway_\t-1.197\t0.2551929\t20\n",
      "MAP00670_One_carbon_pool_by_folate\t1.194\t0.2885906\t10\n",
      "tumor_supressor\t1.193\t0.2698864\t18\n",
      "cell_adhesion_receptor_activity\t-1.191\t0.2550607\t21\n",
      "erbb3Pathway\t-1.190\t0.2523364\t1\n",
      "cell_adhesion_molecule_activity\t-1.189\t0.2760417\t64\n",
      "flumazenilPathway\t-1.188\t0.2829582\t5\n",
      "MAP00240_Pyrimidine_metabolism\t1.188\t0.2761905\t31\n",
      "radiation_sensitivity\t1.179\t0.3157895\t18\n",
      "cdk5Pathway\t-1.179\t0.2719298\t9\n",
      "ngfPathway\t-1.176\t0.2434457\t15\n",
      "MAP00360_Phenylalanine_metabolism\t-1.174\t0.2917847\t9\n",
      "nthiPathway\t-1.171\t0.2656250\t14\n",
      "mcalpainPathway\t-1.171\t0.2760943\t19\n",
      "MAP00380_Tryptophan_metabolism\t-1.167\t0.3026316\t30\n",
      "ox40Pathway\t1.162\t0.2682216\t3\n",
      "SA_DAG1\t-1.161\t0.2868217\t8\n",
      "tnf_and_fas_network\t-1.158\t0.2709163\t16\n",
      "rabPathway\t-1.153\t0.2890443\t10\n",
      "INSULIN_2F_DOWN\t-1.152\t0.2237762\t7\n",
      "carm1Pathway\t-1.150\t0.2901235\t10\n",
      "tidPathway\t-1.150\t0.3063380\t13\n",
      "MYC_MUT\t-1.148\t0.2566667\t2\n",
      "AR_ORTHOS_MAPPED_TO_U133_VIA_NETAFFX\t1.147\t0.2696078\t26\n",
      "SA_CASPASE_CASCADE\t1.147\t0.3030303\t13\n",
      "tubbyPathway\t-1.144\t0.3108108\t6\n",
      "MAPKKK_cascade\t-1.143\t0.2952030\t7\n",
      "MAP00620_Pyruvate_metabolism\t1.143\t0.2672811\t23\n",
      "d4gdiPathway\t1.142\t0.3040380\t11\n",
      "hdacPathway\t1.140\t0.2980769\t19\n",
      "Glycogen_Metabolism\t1.139\t0.3139535\t25\n",
      "epoPathway\t-1.139\t0.3417722\t16\n",
      "cellcyclePathway\t1.138\t0.2755556\t19\n",
      "SA_TRKA_RECEPTOR\t-1.138\t0.2943723\t12\n",
      "plcePathway\t-1.136\t0.3058824\t7\n",
      "MAP00632_Benzoate_degradation\t1.135\t0.3080569\t7\n",
      "ST_PAC1_RECEPTOR_PATHWAY\t-1.131\t0.3311258\t6\n",
      "MAP00252_Alanine_and_aspartate_metabolism\t1.130\t0.3088608\t17\n",
      "SA_PROGRAMMED_CELL_DEATH\t1.129\t0.2558140\t6\n",
      "g1Pathway\t1.127\t0.2936508\t23\n",
      "inflamPathway\t-1.125\t0.3368421\t22\n",
      "EMT_DOWN\t-1.122\t0.3280423\t29\n",
      "p35alzheimersPathway\t-1.120\t0.3132530\t9\n",
      "ST_Tumor_Necrosis_Factor_Pathway\t-1.118\t0.3169014\t22\n",
      "carm-erPathway\t1.117\t0.3014085\t15\n",
      "fatty_acid_metabolism\t-1.115\t0.3536585\t10\n",
      "nfkbPathway\t-1.115\t0.2969283\t16\n",
      "fasPathway\t1.111\t0.3467742\t21\n",
      "leptinPathway\t-1.111\t0.3568773\t5\n",
      "MAP00460_Cyanoamino_acid_metabolism\t-1.106\t0.3284672\t2\n",
      "BRCA_DOWN\t1.106\t0.3028846\t8\n",
      "MAP00062_Fatty_acid_biosynthesis_path_2\t1.104\t0.3236715\t7\n",
      "salmonellaPathway\t-1.100\t0.3314763\t7\n",
      "ADULT_LIVER_vs_FETAL_LIVER_GNF2\t-1.092\t0.3454545\t34\n",
      "MYC_WT\t-1.091\t0.3315217\t2\n",
      "hcmvPathway\t-1.091\t0.3070866\t14\n",
      "cblPathway\t-1.091\t0.3130435\t6\n",
      "pyk2Pathway\t-1.088\t0.3398058\t23\n",
      "MAP03020_RNA_polymerase\t1.088\t0.3245902\t10\n",
      "spryPathway\t-1.085\t0.3302752\t9\n",
      "ST_Ga12_Pathway\t-1.084\t0.3663793\t15\n",
      "plcdPathway\t-1.081\t0.2964427\t3\n",
      "cdc42racPathway\t-1.073\t0.3656716\t9\n",
      "soddPathway\t-1.073\t0.4009217\t8\n",
      "SIG_CD40PATHWAYMAP\t-1.067\t0.3699187\t19\n",
      "CR_CYTOSKELETON\t-1.067\t0.3723958\t19\n",
      "ucalpainPathway\t-1.066\t0.3694030\t11\n",
      "GLUT_DOWN\t1.066\t0.3542857\t184\n",
      "shhPathway\t-1.066\t0.3244681\t8\n",
      "MAP00100_Sterol_biosynthesis\t1.061\t0.3709677\t9\n",
      "cell_adhesion\t-1.059\t0.3952096\t103\n",
      "ST_ERK1_ERK2_MAPK_Pathway\t-1.056\t0.3071429\t23\n",
      "ST_G_alpha_5_Pathway\t-1.056\t0.3731884\t8\n",
      "ST_MONOCYTE_AD_PATHWAY\t-1.054\t0.4120370\t17\n",
      "reelinPathway\t-1.054\t0.3859649\t5\n",
      "cskPathway\t1.052\t0.3646209\t21\n",
      "MAP00020_Citrate_cycle_TCA_cycle\t1.051\t0.4074074\t15\n",
      "amiPathway\t1.050\t0.3600000\t21\n",
      "cell_motility\t-1.048\t0.3370787\t63\n",
      "ephA4Pathway\t-1.047\t0.4011299\t9\n",
      "gata3Pathway\t-1.043\t0.3906250\t12\n",
      "MAP00650_Butanoate_metabolism\t-1.043\t0.3193277\t16\n",
      "nktPathway\t-1.040\t0.3798450\t23\n",
      "vobesityPathway\t1.038\t0.4257703\t6\n",
      "ST_Jak_STAT_Pathway\t-1.037\t0.4038462\t4\n",
      "TGF_Beta_Signaling_Pathway\t-1.035\t0.3669725\t26\n",
      "MAP00740_Riboflavin_metabolism\t1.034\t0.4121406\t3\n",
      "trkaPathway\t-1.034\t0.3507853\t9\n",
      "Electron_Transport_Chain\t1.029\t0.3901639\t38\n",
      "igf1mtorPathway\t1.026\t0.4066667\t17\n",
      "MAP00400_Phenylalanine_tyrosine_and_tryptophan_biosynthesis\t-1.025\t0.3990610\t6\n",
      "AR_MOUSE\t1.025\t0.4526627\t26\n",
      "keratinocytePathway\t-1.017\t0.4198113\t30\n",
      "GPCRs_Class_B_Secretin-like\t-1.012\t0.4242424\t11\n",
      "rnaPathway\t1.011\t0.3836066\t6\n",
      "pelp1Pathway\t1.009\t0.3936652\t4\n",
      "VOXPHOS\t1.005\t0.3482143\t38\n",
      "ST_Interleukin_4_Pathway\t-1.004\t0.4200000\t14\n",
      "ST_B_Cell_Antigen_Receptor\t-1.003\t0.4060403\t28\n",
      "HTERT_DOWN\t-1.003\t0.4080997\t59\n",
      "TESTIS_GENES_FROM_XHX_AND_NETAFFX\t-1.002\t0.4359756\t20\n",
      "MAP00561_Glycerolipid_metabolism\t-1.000\t0.3831776\t27\n",
      "MAPK_Cascade\t-0.999\t0.4081633\t13\n",
      "asbcellPathway\t-0.998\t0.4078014\t6\n",
      "calcineurinPathway\t0.997\t0.4318182\t16\n",
      "malatePathway\t0.997\t0.4444444\t4\n",
      "MAP00790_Folate_biosynthesis\t0.997\t0.4456522\t10\n",
      "erbb4Pathway\t0.996\t0.4328358\t4\n",
      "tob1Pathway\t0.995\t0.4245283\t14\n",
      "Wnt_Signaling\t0.994\t0.4071146\t29\n",
      "gsk3Pathway\t-0.994\t0.4000000\t16\n",
      "ndkDynaminPathway\t0.993\t0.4140845\t12\n",
      "GPCRs_Class_C_Metabotropic_glutamate_pheromone\t-0.992\t0.4027149\t6\n",
      "CR_CAM\t-0.991\t0.3787879\t71\n",
      "MAP00140_C21_Steroid_hormone_metabolism\t-0.989\t0.4086022\t4\n",
      "cremPathway\t0.977\t0.4965675\t5\n",
      "UPREG_BY_HOXA9\t-0.976\t0.4137931\t24\n",
      "ANDROGEN_UP_GENES\t-0.973\t0.4285714\t37\n",
      "cell_cycle_regulator\t0.968\t0.5035129\t17\n",
      "hbxPathway\t-0.968\t0.4584615\t5\n",
      "huntingtonPathway\t0.962\t0.4674330\t4\n",
      "wntPathway\t0.956\t0.4554455\t13\n",
      "GLYCOGEN\t-0.955\t0.4408602\t10\n",
      "GLUCO\t-0.944\t0.5473441\t19\n",
      "GPCRs_Class_A_Rhodopsin-like\t-0.938\t0.5000000\t63\n",
      "tnfr1Pathway\t0.931\t0.5643045\t23\n",
      "EGF_receptor_signaling_pathway\t0.930\t0.4516129\t4\n",
      "gcrPathway\t-0.929\t0.4653465\t15\n",
      "SA_G1_AND_S_PHASES\t0.917\t0.4661017\t10\n",
      "MAP00410_beta_Alanine_metabolism\t-0.914\t0.4958678\t12\n",
      "NFKB_INDUCED\t-0.913\t0.5055351\t81\n",
      "CR_TRANSPORT\t0.911\t0.5250000\t5\n",
      "ptdinsPathway\t-0.911\t0.4869888\t17\n",
      "CR_TRANSCRIPTION_FACTORS\t-0.910\t0.4787645\t49\n",
      "ptenPathway\t-0.907\t0.5611702\t11\n",
      "sarsPathway\t0.905\t0.5618557\t9\n",
      "etsPathway\t-0.903\t0.5398458\t12\n",
      "MAP00350_Tyrosine_metabolism\t-0.903\t0.5428571\t17\n",
      "chemicalPathway\t0.903\t0.4800000\t16\n",
      "LEU_DOWN\t0.900\t0.5265152\t120\n",
      "achPathway\t-0.899\t0.5379310\t7\n",
      "tpoPathway\t-0.891\t0.5304054\t21\n",
      "electron_transporter_activity\t-0.888\t0.5203252\t60\n",
      "tcytotoxicPathway\t-0.887\t0.5328467\t11\n",
      "ST_Differentiation_Pathway_in_PC12_Cells\t-0.883\t0.6044776\t28\n",
      "INSULIN_2F_UP\t0.882\t0.5250000\t111\n",
      "cdmacPathway\t-0.880\t0.4970060\t14\n",
      "akap96Pathway\t0.877\t0.5258216\t9\n",
      "caspasePathway\t0.875\t0.5838150\t19\n",
      "cacamPathway\t0.875\t0.5564516\t7\n",
      "MAP00010_Glycolysis_Gluconeogenesis\t-0.873\t0.5770235\t36\n",
      "ecmPathway\t-0.872\t0.5395189\t17\n",
      "FA\t0.870\t0.5714286\t17\n",
      "SIG_PIP3_signaling_in_B_lymphocytes\t0.870\t0.5503597\t22\n",
      "P53_DOWN\t0.869\t0.6069652\t15\n",
      "ctlPathway\t-0.867\t0.5618557\t12\n",
      "FRASOR_ER_UP\t0.864\t0.5798319\t17\n",
      "egfPathway\t-0.863\t0.5414847\t23\n",
      "ST_ADRENERGIC\t-0.863\t0.5564516\t27\n",
      "MAP00330_Arginine_and_proline_metabolism\t-0.856\t0.5267857\t24\n",
      "AR_MOUSE_PLUS_TESTO_FROM_NETAFFX\t0.855\t0.5591398\t33\n",
      "MAP00562_Inositol_phosphate_metabolism\t-0.855\t0.5645161\t12\n",
      "ppargPathway\t0.851\t0.5813953\t6\n",
      "biopeptidesPathway\t-0.851\t0.5319149\t32\n",
      "bcrPathway\t0.849\t0.6403061\t29\n",
      "ST_Wnt_beta_catenin_Pathway\t-0.845\t0.5777778\t15\n",
      "EMT_UP\t-0.843\t0.5000000\t46\n",
      "il4Pathway\t-0.843\t0.4934211\t9\n",
      "actinYPathway\t-0.842\t0.6605505\t8\n",
      "SIG_BCR_Signaling_Pathway\t0.840\t0.6153846\t37\n",
      "Fatty_Acid_Degradation\t0.839\t0.6107784\t13\n",
      "GLUCOSE_UP\t-0.837\t0.5675676\t25\n",
      "FRASOR_ER_DOWN\t-0.837\t0.6211340\t41\n",
      "pmlPathway\t-0.836\t0.6264368\t11\n",
      "akapCentrosomePathway\t-0.833\t0.6032258\t8\n",
      "nkcellsPathway\t-0.830\t0.6092308\t16\n",
      "MAP00710_Carbon_fixation\t-0.829\t0.5752688\t10\n",
      "aktPathway\t-0.829\t0.6160221\t13\n",
      "MAP00052_Galactose_metabolism\t-0.828\t0.5630631\t16\n",
      "MAP00272_Cysteine_metabolism\t0.828\t0.6325581\t8\n",
      "chrebpPathway\t0.825\t0.5630252\t11\n",
      "thelperPathway\t-0.825\t0.6393035\t11\n",
      "ST_G_Protein_Independent_7_Transmembrane\t0.823\t0.6111111\t3\n",
      "PYR\t0.822\t0.6474164\t6\n",
      "dreamPathway\t-0.821\t0.6228956\t11\n",
      "SA_PTEN_PATHWAY\t-0.821\t0.5986159\t13\n",
      "HTERT_UP\t0.820\t0.6297297\t100\n",
      "ST_Wnt_Ca2_cyclic_GMP_Pathway\t-0.817\t0.5698925\t13\n",
      "ST_Integrin_Signaling_Pathway\t-0.816\t0.6456876\t42\n",
      "cell_cycle_arrest\t0.812\t0.6221374\t18\n",
      "SA_B_CELL_RECEPTOR_COMPLEXES\t-0.811\t0.6666667\t16\n",
      "MAP00190_Oxidative_phosphorylation\t-0.811\t0.6068376\t30\n",
      "sppaPathway\t-0.810\t0.6892655\t18\n",
      "RAP_UP\t0.808\t0.6196721\t104\n",
      "vegfPathway\t0.807\t0.6277372\t21\n",
      "s1pPathway\t-0.805\t0.6034483\t6\n",
      "cftrPathway\t-0.804\t0.5763889\t9\n",
      "arenrf2Pathway\t0.802\t0.6871345\t11\n",
      "MAP_kinase_activity\t0.798\t0.6313364\t4\n",
      "il17Pathway\t0.796\t0.6057348\t14\n",
      "INS\t-0.795\t0.6421405\t18\n",
      "rhoPathway\t-0.792\t0.7337963\t18\n",
      "metPathway\t-0.790\t0.6599424\t29\n",
      "MAP00150_Androgen_and_estrogen_metabolism\t-0.789\t0.6864407\t9\n",
      "badPathway\t-0.788\t0.6092437\t15\n",
      "MAP00051_Fructose_and_mannose_metabolism\t-0.787\t0.6423358\t14\n",
      "HEMO_TF_LIST_JP\t-0.787\t0.6556777\t58\n",
      "ck1Pathway\t-0.784\t0.5578947\t12\n",
      "insulin_signalling\t-0.783\t0.6298701\t69\n",
      "mef2dPathway\t0.782\t0.7085714\t15\n",
      "cxcr4Pathway\t-0.782\t0.6443662\t21\n",
      "ST_G_Protein_Independent_7_Transmembrane_Receptor_Signaling\t0.781\t0.6611842\t3\n",
      "torPathway\t-0.780\t0.6756757\t3\n",
      "deathPathway\t-0.777\t0.7132867\t22\n",
      "ionPathway\t-0.774\t0.6338028\t5\n",
      "fmlppathway\t-0.768\t0.5735294\t27\n",
      "SIG_PIP3SIGINCARDIACMYOCTES\t0.766\t0.6702128\t41\n",
      "raccycdPathway\t-0.764\t0.6858238\t20\n",
      "ccr3Pathway\t-0.760\t0.6832298\t16\n",
      "GLUCOSE_DOWN\t0.760\t0.6551724\t87\n",
      "SIG_Regulation_of_the_actin_cytoskeleton_by_Rho_GTPases\t-0.759\t0.7180233\t16\n",
      "mapkPathway\t-0.759\t0.6791667\t53\n",
      "GLUT_UP\t0.758\t0.6641221\t134\n",
      "MAP00640_Propanoate_metabolism\t-0.752\t0.6533333\t15\n",
      "cell_growth_and_or_maintenance\t-0.748\t0.7403846\t31\n",
      "arapPathway\t-0.745\t0.7423313\t8\n",
      "erk5Pathway\t0.743\t0.6862745\t14\n",
      "MAP00260_Glycine_serine_and_threonine_metabolism\t-0.743\t0.7827160\t13\n",
      "ureacyclePathway\t-0.741\t0.6027397\t5\n",
      "no1Pathway\t-0.741\t0.7590028\t21\n",
      "GO_0005739\t0.736\t0.6814815\t90\n",
      "pdgfPathway\t-0.729\t0.6666667\t25\n",
      "mprPathway\t0.724\t0.7579186\t19\n",
      "plcPathway\t-0.723\t0.7453416\t7\n",
      "myosinPathway\t-0.723\t0.7229730\t10\n",
      "shh_lisa\t0.719\t0.7005348\t14\n",
      "ST_T_Cell_Signal_Transduction\t-0.719\t0.7431507\t26\n",
      "muscle_myosin\t-0.716\t0.7516129\t8\n",
      "argininecPathway\t-0.715\t0.7598684\t4\n",
      "FETAL_LIVER_HS_ENRICHED_TF_JP\t0.713\t0.7232704\t46\n",
      "MAP00251_Glutamate_metabolism\t0.713\t0.6615385\t16\n",
      "ccr5Pathway\t-0.713\t0.7391304\t17\n",
      "tgfbPathway\t-0.712\t0.7323944\t10\n",
      "rasPathway\t-0.710\t0.7238806\t18\n",
      "methioninePathway\t-0.704\t0.7176471\t3\n",
      "drug_resistance_and_metabolism\t0.703\t0.7717391\t71\n",
      "Inflammatory_Response_Pathway\t0.703\t0.7549407\t15\n",
      "RAP_DOWN\t0.702\t0.7337278\t148\n",
      "rarrxrPathway\t-0.701\t0.7369863\t10\n",
      "tcrPathway\t0.699\t0.7696335\t39\n",
      "MAP00120_Bile_acid_biosynthesis\t-0.698\t0.7242798\t14\n",
      "hifPathway\t0.697\t0.7815385\t11\n",
      "CR_IMMUNE_FUNCTION\t0.686\t0.8136483\t38\n",
      "SA_FAS_SIGNALLING\t-0.685\t0.7522936\t5\n",
      "ps1Pathway\t-0.685\t0.7364865\t7\n",
      "alkPathway\t-0.684\t0.7821782\t17\n",
      "igf1rPathway\t-0.682\t0.7953216\t13\n",
      "atmPathway\t-0.680\t0.7867647\t15\n",
      "Il12Pathway\t-0.680\t0.7309942\t19\n",
      "agpcrPathway\t-0.679\t0.8507109\t10\n",
      "il2Pathway\t-0.676\t0.8225256\t19\n",
      "SIG_CHEMOTAXIS\t0.676\t0.8455056\t23\n",
      "CR_SIGNALLING\t-0.675\t0.7017544\t131\n",
      "nos1Pathway\t0.674\t0.8345154\t17\n",
      "ST_GRANULE_CELL_SURVIVAL_PATHWAY\t-0.672\t0.8283063\t18\n",
      "cell_surface_receptor_linked_signal_transduction\t-0.672\t0.7643312\t79\n",
      "igf1Pathway\t-0.671\t0.8148148\t18\n",
      "GNF_FEMALE_GENES\t-0.669\t0.8376623\t56\n",
      "P53_UP\t-0.657\t0.8204334\t29\n",
      "MAP00760_Nicotinate_and_nicotinamide_metabolism\t0.655\t0.8112094\t2\n",
      "ST_Phosphoinositide_3_Kinase_Pathway\t0.653\t0.7394958\t24\n",
      "cardiacegfPathway\t-0.653\t0.8308458\t12\n",
      "par1Pathway\t-0.651\t0.7953488\t13\n",
      "MAP00071_Fatty_acid_metabolism\t0.651\t0.8501229\t32\n",
      "fcer1Pathway\t-0.650\t0.8317308\t32\n",
      "LEU_UP\t0.638\t0.8625731\t70\n",
      "SIG_InsulinReceptorPathwayInCardiacMyocytes\t-0.633\t0.8328173\t33\n",
      "ANDROGEN_GENES_FROM_NETAFFX\t0.631\t0.8430034\t21\n",
      "HUMAN_CD34_ENRICHED_TF_JP\t0.630\t0.8062016\t112\n",
      "fxrPathway\t-0.626\t0.8470255\t4\n",
      "ctla4Pathway\t0.625\t0.7830189\t17\n",
      "pitx2Pathway\t-0.624\t0.8073394\t8\n",
      "p53hypoxiaPathway\t-0.624\t0.7777778\t17\n",
      "hivnefPathway\t0.623\t0.8765432\t40\n",
      "gpcrPathway\t0.621\t0.8502994\t30\n",
      "MAP00510_N_Glycans_biosynthesis\t-0.618\t0.8613445\t8\n",
      "ghPathway\t-0.618\t0.8324607\t22\n",
      "insulinPathway\t-0.617\t0.8300000\t20\n",
      "CR_DNA_MET_AND_MOD\t-0.608\t0.8975904\t15\n",
      "MAP00271_Methionine_metabolism\t0.608\t0.8863636\t6\n",
      "hsp27Pathway\t0.598\t0.8380282\t13\n",
      "RAR_UP\t-0.597\t0.8686567\t18\n",
      "erkPathway\t-0.596\t0.8471338\t21\n",
      "no2il12Pathway\t0.592\t0.8923077\t15\n",
      "gleevecPathway\t0.591\t0.9010417\t18\n",
      "ST_p38_MAPK_Pathway\t-0.590\t0.8772563\t23\n",
      "ST_Dictyostelium_discoideum_cAMP_Chemotaxis_Pathway\t0.590\t0.8943396\t22\n",
      "CR_CANCER_TESTIS\t0.581\t0.8742857\t8\n",
      "SIG_IL4RECEPTOR_IN_B_LYPHOCYTES\t-0.576\t0.9067524\t20\n",
      "pparaPathway\t0.575\t0.8927614\t44\n",
      "ca_nf_at_signalling\t0.574\t0.8901099\t60\n",
      "ceramidePathway\t-0.570\t0.8916409\t18\n",
      "p53_signalling\t0.566\t0.9080882\t65\n",
      "caspase_activity\t-0.562\t0.9142857\t6\n",
      "MAP00220_Urea_cycle_and_metabolism_of_amino_groups\t-0.560\t0.8796992\t11\n",
      "nfatPathway\t0.560\t0.8989547\t39\n",
      "ST_Fas_Signaling_Pathway\t0.549\t0.9339207\t34\n",
      "vipPathway\t-0.549\t0.8908046\t22\n",
      "il2rbPathway\t0.544\t0.9431818\t28\n",
      "CBF_LEUKEMIA_DOWNING_AML\t0.544\t0.9354839\t37\n",
      "p38mapkPathway\t0.543\t0.9144981\t25\n",
      "edg1Pathway\t-0.543\t0.8957346\t18\n",
      "rac1Pathway\t0.541\t0.9327217\t18\n",
      "mtorPathway\t0.527\t0.9396135\t20\n",
      "crebPathway\t-0.525\t0.9453552\t21\n",
      "at1rPathway\t-0.523\t0.9158879\t25\n",
      "eif4Pathway\t0.523\t0.9547170\t21\n",
      "human_mitoDB_6_2002\t0.518\t0.8913043\t198\n",
      "cell_proliferation\t0.510\t0.9688312\t123\n",
      "breast_cancer_estrogen_signalling\t-0.506\t0.9176471\t56\n",
      "CR_DEATH\t-0.500\t0.9515152\t48\n",
      "ST_JNK_MAPK_Pathway\t-0.487\t0.9498607\t24\n",
      "PGC\t0.482\t0.9670051\t185\n",
      "electron_transport\t-0.480\t0.9606742\t32\n",
      "CR_PROTEIN_MOD\t0.476\t0.9620690\t114\n",
      "MAP00361_gamma_Hexachlorocyclohexane_degradation\t0.473\t0.9882353\t18\n",
      "G13_Signaling_Pathway\t0.471\t0.9742931\t18\n",
      "MAP00280_Valine_leucine_and_isoleucine_degradation\t0.456\t0.9654321\t17\n",
      "mitochondr\t0.452\t0.9816514\t197\n",
      "KRAS_TOP100_CONTROL\t0.423\t0.9865229\t31\n",
      "PROLIF_GENES\t-0.415\t0.9758065\t219\n",
      "BRCA_UP\t0.389\t0.9904306\t36\n"
     ]
    }
   ],
   "source": [
    "print(\"geneset\\tNES\\tp-value\\tnumber of genes in geneset\")\n",
    "for i in range(len(order)):\n",
    "    print(\"%s\\t%.3f\\t%.7f\\t%d\" % (gene_set_names[order[i]][0], NES[i], p_values[i], len(gene_sets[order[i]])))"
   ]
  },
  {
   "cell_type": "code",
   "execution_count": 127,
   "metadata": {},
   "outputs": [
    {
     "name": "stdout",
     "output_type": "stream",
     "text": [
      "ES = -0.694416930286\n"
     ]
    },
    {
     "data": {
      "image/png": "[encoded data removed]",
      "text/plain": [
       "<matplotlib.figure.Figure at 0x7f6e740a6be0>"
      ]
     },
     "metadata": {},
     "output_type": "display_data"
    }
   ],
   "source": [
    "name = 'il10Pathway'\n",
    "L,r = rank_genes(D,C)\n",
    "plot_es_calculations(name, L, r)"
   ]
  },
  {
   "cell_type": "code",
   "execution_count": 128,
   "metadata": {
    "collapsed": true
   },
   "outputs": [],
   "source": [
    "n = 1000\n",
    "S =  gene_set_hash[name]['indexes']\n",
    "L, r = rank_genes(D,C)\n",
    "ES = enrichment_score(L,r,S)\n",
    "ES_pi = np.zeros(n)\n",
    "for i in range(n):\n",
    "    pi = np.array([np.random.randint(0,2) for i in range(k)])\n",
    "    L, r = rank_genes(D,pi)\n",
    "    ES_pi[i] = enrichment_score(L,r,S)"
   ]
  },
  {
   "cell_type": "code",
   "execution_count": 133,
   "metadata": {},
   "outputs": [
    {
     "data": {
      "text/plain": [
       "<matplotlib.text.Text at 0x7f6e740e5d68>"
      ]
     },
     "execution_count": 133,
     "metadata": {},
     "output_type": "execute_result"
    },
    {
     "data": {
      "image/png": "[encoded data removed]",
      "text/plain": [
       "<matplotlib.figure.Figure at 0x7f6e6f6e26a0>"
      ]
     },
     "metadata": {},
     "output_type": "display_data"
    }
   ],
   "source": [
    "hist(ES_pi,bins=100)\n",
    "plot([ES,ES],[0,20],'r-',label=\"ES(S)\")\n",
    "title(\"Histogram of ES vlues for random phenotype labels.\\nRed line is ES for the selected gene set.\")\n"
   ]
  }
 ],
 "metadata": {
  "kernelspec": {
   "display_name": "Python 3",
   "language": "python",
   "name": "python3"
  },
  "language_info": {
   "codemirror_mode": {
    "name": "ipython",
    "version": 3
   },
   "file_extension": ".py",
   "mimetype": "text/x-python",
   "name": "python",
   "nbconvert_exporter": "python",
   "pygments_lexer": "ipython3",
   "version": "3.6.1"
  }
 },
 "nbformat": 4,
 "nbformat_minor": 2
}
